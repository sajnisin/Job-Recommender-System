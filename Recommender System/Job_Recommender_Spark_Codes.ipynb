{
  "cells": [
    {
      "cell_type": "markdown",
      "metadata": {
        "id": "0BrFL2axkZ3q"
      },
      "source": [
        "# CS5344 Group Project - Job Recommender System\n",
        "\n",
        "**Project Group 14**\n",
        "\n",
        "The codes were executed in Google Colab as a Python Notebook (.ipynb).\n",
        "\n",
        "Key Environments:\n",
        "- Python version 3.10.12\n",
        "- OpenJDK version 11.0.22\n",
        "- Pyspark version 3.5.1\n",
        "- Scala version 2.12.18\n",
        "- nltk version 3.8.1\n",
        "- numpy version 1.25.2\n"
      ]
    },
    {
      "cell_type": "markdown",
      "metadata": {
        "id": "qVqU5BFaktbi"
      },
      "source": [
        "## 1. Setup"
      ]
    },
    {
      "cell_type": "code",
      "execution_count": null,
      "metadata": {
        "colab": {
          "base_uri": "https://localhost:8080/"
        },
        "id": "h15Jye5vkXhF",
        "outputId": "3be6b868-79d2-407e-9ce5-69ca79da3498"
      },
      "outputs": [
        {
          "name": "stdout",
          "output_type": "stream",
          "text": [
            "\u001b[2K     \u001b[90m━━━━━━━━━━━━━━━━━━━━━━━━━━━━━━━━━━━━━━━━\u001b[0m \u001b[32m317.0/317.0 MB\u001b[0m \u001b[31m3.8 MB/s\u001b[0m eta \u001b[36m0:00:00\u001b[0m\n",
            "\u001b[?25h  Preparing metadata (setup.py) ... \u001b[?25l\u001b[?25hdone\n",
            "  Building wheel for pyspark (setup.py) ... \u001b[?25l\u001b[?25hdone\n"
          ]
        }
      ],
      "source": [
        "!pip install --quiet pyspark   #  pyspark 3.5.1"
      ]
    },
    {
      "cell_type": "code",
      "execution_count": null,
      "metadata": {
        "id": "4pROqGHVkmiE"
      },
      "outputs": [],
      "source": [
        "import sys\n",
        "import os\n",
        "import json\n",
        "import re\n",
        "import string\n",
        "import csv\n",
        "\n",
        "import pyspark\n",
        "from pyspark.sql import SparkSession, Row\n",
        "from pyspark.sql.functions import udf, col, lower, desc, split, trim, expr\n",
        "from pyspark.sql.types import DoubleType, StringType, BooleanType, ArrayType\n",
        "from pyspark.ml.feature import Tokenizer, RegexTokenizer, StopWordsRemover, HashingTF, IDF, CountVectorizer\n",
        "from pyspark.ml.linalg import Vectors, VectorUDT\n",
        "\n",
        "import nltk\n",
        "from nltk.tokenize import sent_tokenize\n",
        "from nltk.stem import WordNetLemmatizer\n",
        "from nltk.corpus import stopwords"
      ]
    },
    {
      "cell_type": "code",
      "execution_count": null,
      "metadata": {
        "colab": {
          "base_uri": "https://localhost:8080/"
        },
        "id": "Jm35YZOdkm9m",
        "outputId": "dd4a4cc0-0d70-4cd2-d13e-6446d9b26d2b"
      },
      "outputs": [
        {
          "name": "stderr",
          "output_type": "stream",
          "text": [
            "[nltk_data] Downloading package punkt to /root/nltk_data...\n",
            "[nltk_data]   Unzipping tokenizers/punkt.zip.\n",
            "[nltk_data] Downloading package stopwords to /root/nltk_data...\n",
            "[nltk_data]   Unzipping corpora/stopwords.zip.\n",
            "[nltk_data] Downloading package wordnet to /root/nltk_data...\n"
          ]
        },
        {
          "data": {
            "text/plain": [
              "True"
            ]
          },
          "execution_count": 3,
          "metadata": {},
          "output_type": "execute_result"
        }
      ],
      "source": [
        "nltk.download('punkt')\n",
        "nltk.download('stopwords')\n",
        "nltk.download('wordnet')"
      ]
    },
    {
      "cell_type": "code",
      "execution_count": null,
      "metadata": {
        "colab": {
          "base_uri": "https://localhost:8080/"
        },
        "id": "pL8Ub3I5km_l",
        "outputId": "74f7261f-9cc0-4470-e244-146c873c465d"
      },
      "outputs": [
        {
          "name": "stdout",
          "output_type": "stream",
          "text": [
            "Mounted at /content/gdrive\n",
            "/content/gdrive/MyDrive/CS5344\n",
            "/content/gdrive/MyDrive/CS5344\n"
          ]
        }
      ],
      "source": [
        "# For Google Colaboratory\n",
        "import sys, os\n",
        "if 'google.colab' in sys.modules:\n",
        "    # mount google drive\n",
        "    from google.colab import drive\n",
        "    drive.mount('/content/gdrive')\n",
        "    path_to_file = '/content/gdrive/MyDrive/CS5344'    # Update to your own filepath\n",
        "    print(path_to_file)\n",
        "    # move to Google Drive directory\n",
        "    os.chdir(path_to_file)\n",
        "    !pwd"
      ]
    },
    {
      "cell_type": "code",
      "execution_count": null,
      "metadata": {
        "id": "WL_N3KaOknEp"
      },
      "outputs": [],
      "source": [
        "# Define paths\n",
        "job_post_skills_path = \"linkedin_job_posts_skills.csv\"   #sys.argv[1]\n",
        "stopwords_path = \"stopwords.txt\"  #sys.argv[2]\n",
        "job_seeker_path = \"test_cases.csv\"  #sys.argv[3]\n",
        "output_file_path = \"output_job_skills_match.csv\"  #sys.argv[4]"
      ]
    },
    {
      "cell_type": "code",
      "execution_count": null,
      "metadata": {
        "id": "yjPNN49dknCJ"
      },
      "outputs": [],
      "source": [
        "# Initialize Spark session\n",
        "spark = SparkSession.builder \\\n",
        "    .appName(\"MatchJobSkills\") \\\n",
        "    .getOrCreate()"
      ]
    },
    {
      "cell_type": "markdown",
      "metadata": {
        "id": "3ynTV2Fomjzx"
      },
      "source": [
        "## 2. Load Spark Dataframe"
      ]
    },
    {
      "cell_type": "code",
      "execution_count": null,
      "metadata": {
        "id": "qFwoE6sHmi30"
      },
      "outputs": [],
      "source": [
        "# Load posting & skills CSV into DataFrame\n",
        "df_posts_skills = spark.read.csv(job_post_skills_path, header=True, inferSchema=True)"
      ]
    },
    {
      "cell_type": "code",
      "execution_count": null,
      "metadata": {
        "colab": {
          "base_uri": "https://localhost:8080/"
        },
        "id": "NF3NzSrdmi09",
        "outputId": "0b81eb4b-8fe3-499a-854a-b41e42fac9bd"
      },
      "outputs": [
        {
          "name": "stdout",
          "output_type": "stream",
          "text": [
            "1292937\n",
            "root\n",
            " |-- sn: integer (nullable = true)\n",
            " |-- job_link_id: long (nullable = true)\n",
            " |-- last_processed_time: timestamp (nullable = true)\n",
            " |-- got_summary: boolean (nullable = true)\n",
            " |-- got_ner: boolean (nullable = true)\n",
            " |-- is_being_worked: boolean (nullable = true)\n",
            " |-- job_title: string (nullable = true)\n",
            " |-- company: string (nullable = true)\n",
            " |-- job_location: string (nullable = true)\n",
            " |-- first_seen: string (nullable = true)\n",
            " |-- search_city: string (nullable = true)\n",
            " |-- search_country: string (nullable = true)\n",
            " |-- search_position: string (nullable = true)\n",
            " |-- job_level: string (nullable = true)\n",
            " |-- job_type: string (nullable = true)\n",
            " |-- job_skills: string (nullable = true)\n",
            "\n",
            "+---+-----------+--------------------+-----------+-------+---------------+--------------------+--------------------+--------------------+----------+-----------+--------------+--------------------+----------+--------+--------------------+\n",
            "| sn|job_link_id| last_processed_time|got_summary|got_ner|is_being_worked|           job_title|             company|        job_location|first_seen|search_city|search_country|     search_position| job_level|job_type|          job_skills|\n",
            "+---+-----------+--------------------+-----------+-------+---------------+--------------------+--------------------+--------------------+----------+-----------+--------------+--------------------+----------+--------+--------------------+\n",
            "|  0| 3802078767|2024-01-21 07:12:...|       true|   true|          false|Account Executive...|                  BD|       San Diego, CA|2024-01-15|   Coronado| United States|         Color Maker|Mid senior|  Onsite|Medical equipment...|\n",
            "|  1| 3803386312|2024-01-21 07:39:...|       true|   true|          false|Registered Nurse ...|   Trinity Health MI|   Norton Shores, MI|2024-01-14|Grand Haven| United States|Director Nursing ...|Mid senior|  Onsite|Nursing, Bachelor...|\n",
            "|  2| 3771464419|2024-01-21 07:40:...|       true|   true|          false|RESTAURANT SUPERV...|Wasatch Adaptive ...|           Sandy, UT|2024-01-14|     Tooele| United States|            Stand-In|Mid senior|  Onsite|Restaurant Operat...|\n",
            "|  3| 3797661348|2024-01-21 07:40:...|       true|   true|          false|Independent Real ...|Howard Hanna | Ra...|Englewood Cliffs, NJ|2024-01-16|  Pinehurst| United States|   Real-Estate Clerk|Mid senior|  Onsite|Real Estate, Cust...|\n",
            "|  4| 3790954711|2024-01-21 08:08:...|       true|   true|          false|Registered Nurse ...|   Trinity Health MI|        Muskegon, MI|2024-01-14|   Muskegon| United States|  Nurse Practitioner|Mid senior|  Onsite|Nursing, BSN, Med...|\n",
            "+---+-----------+--------------------+-----------+-------+---------------+--------------------+--------------------+--------------------+----------+-----------+--------------+--------------------+----------+--------+--------------------+\n",
            "only showing top 5 rows\n",
            "\n"
          ]
        }
      ],
      "source": [
        "# Count number of rows\n",
        "num_rows = df_posts_skills.count()\n",
        "print(num_rows)\n",
        "\n",
        "# Show the DataFrame schema and some sample data\n",
        "df_posts_skills.printSchema()\n",
        "df_posts_skills.show(5)  # Show the first 5 rows"
      ]
    },
    {
      "cell_type": "code",
      "execution_count": null,
      "metadata": {
        "colab": {
          "base_uri": "https://localhost:8080/"
        },
        "id": "SJmM08QkePEO",
        "outputId": "0cd362ce-6dda-4701-c56d-9073c0f8b87c"
      },
      "outputs": [
        {
          "data": {
            "text/plain": [
              "[Row(sn=1292936, job_link_id=3734494804, last_processed_time=datetime.datetime(2024, 1, 21, 0, 38, 44, 231492), got_summary=True, got_ner=True, is_being_worked=False, job_title='On-Demand: Guest Advocate (Cashier), General Merchandise, Fulfillment, Food and Beverage, Style (T2632)', company='Target', job_location='Culver City, CA', first_seen='2024-01-12', search_city='Malibu', search_country='United States', search_position='Cashier Ii', job_level='Mid senior', job_type='Onsite', job_skills='Customer service, Communication, Problem solving, Decision making, Adaptability, Sales promotion, Product knowledge, Cash handling, Merchandise handling, Flexible work schedule, Regular attendance, Ability to work independently and with a team, Ability to communicate effectively, Welcoming and helpful attitude, Attention to detail, Willingness to educate guests and sell products and services, Ability to learn and adapt to evolving technology needs, ability to work both independently and with a team, Working in a fun and energetic environment, Providing service to guests, Interacting with people, Ability to work nights weekends and holidays')]"
            ]
          },
          "execution_count": 9,
          "metadata": {},
          "output_type": "execute_result"
        }
      ],
      "source": [
        "df_posts_skills.tail(1)"
      ]
    },
    {
      "cell_type": "markdown",
      "metadata": {
        "id": "D4fE67u_wT55"
      },
      "source": [
        "## 3. Pre-process the \"job_skills\" column"
      ]
    },
    {
      "cell_type": "code",
      "execution_count": null,
      "metadata": {
        "id": "rf1gLPyUkT9k"
      },
      "outputs": [],
      "source": [
        "# Initialize NLTK objects\n",
        "lemmatizer = WordNetLemmatizer()\n",
        "stopwords_nltk = list(stopwords.words(\"english\"))\n",
        "\n",
        "# Load stopwords from the file into a list\n",
        "with open(stopwords_path, \"r\") as f:\n",
        "    stopwords_txt = list(f.read().splitlines())\n",
        "\n",
        "# Combine stopwords from nltk & txt\n",
        "stop_words = set(stopwords_nltk + stopwords_txt)"
      ]
    },
    {
      "cell_type": "code",
      "execution_count": null,
      "metadata": {
        "id": "4vdifQ35qZll"
      },
      "outputs": [],
      "source": [
        "# Function to clean job_skills\n",
        "def clean_tokenize_skills(skills):\n",
        "    skills = re.sub(r'[^a-zA-Z,\\s]', '', skills) # Remove non-alphabetical characters except commas and spaces\n",
        "    skills = re.sub(r'\\s*,\\s*', ',', skills) # Remove extra spaces around commas\n",
        "    skills = re.sub(r'\\s+', ' ', skills)  # Remove extra spaces between words\n",
        "    skills = skills.lower() # Convert to lowercase\n",
        "    skills_list = skills.split(',') # Split skills by comma\n",
        "    cleaned_skills = []\n",
        "    for skill in skills_list:\n",
        "        skill = skill.strip() # Remove leading and trailing whitespace\n",
        "        if skill not in stop_words: # Remove stopwords\n",
        "            skill = lemmatizer.lemmatize(skill) # Lemmatize skill\n",
        "            skill = skill.replace(string.punctuation, '') # within each skill (element in the list), remove all punctuation including commas (as there should be no punctuation within each element)\n",
        "            cleaned_skills.append(skill)\n",
        "    return cleaned_skills"
      ]
    },
    {
      "cell_type": "code",
      "execution_count": null,
      "metadata": {
        "id": "WEKIHpPgqtSN"
      },
      "outputs": [],
      "source": [
        "# Define UDF to apply cleaning and tokenization function\n",
        "clean_tokenize_udf = udf(clean_tokenize_skills, ArrayType(StringType()))\n",
        "\n",
        "# Apply UDF to clean and tokenize job_skills column\n",
        "df_posts_skills_cleaned = df_posts_skills.withColumn(\"cleaned_job_skills\", clean_tokenize_udf(col(\"job_skills\")))\n"
      ]
    },
    {
      "cell_type": "code",
      "execution_count": null,
      "metadata": {
        "colab": {
          "base_uri": "https://localhost:8080/"
        },
        "id": "k3rqD8o_rEWm",
        "outputId": "be24285a-9b9d-4d98-a984-ed8c56cf1498"
      },
      "outputs": [
        {
          "name": "stdout",
          "output_type": "stream",
          "text": [
            "root\n",
            " |-- sn: integer (nullable = true)\n",
            " |-- job_link_id: long (nullable = true)\n",
            " |-- last_processed_time: timestamp (nullable = true)\n",
            " |-- got_summary: boolean (nullable = true)\n",
            " |-- got_ner: boolean (nullable = true)\n",
            " |-- is_being_worked: boolean (nullable = true)\n",
            " |-- job_title: string (nullable = true)\n",
            " |-- company: string (nullable = true)\n",
            " |-- job_location: string (nullable = true)\n",
            " |-- first_seen: string (nullable = true)\n",
            " |-- search_city: string (nullable = true)\n",
            " |-- search_country: string (nullable = true)\n",
            " |-- search_position: string (nullable = true)\n",
            " |-- job_level: string (nullable = true)\n",
            " |-- job_type: string (nullable = true)\n",
            " |-- job_skills: string (nullable = true)\n",
            " |-- cleaned_job_skills: array (nullable = true)\n",
            " |    |-- element: string (containsNull = true)\n",
            "\n",
            "+---+-----------+--------------------+-----------+-------+---------------+--------------------+--------------------+--------------------+----------+-----------+--------------+--------------------+----------+--------+--------------------+--------------------+\n",
            "| sn|job_link_id| last_processed_time|got_summary|got_ner|is_being_worked|           job_title|             company|        job_location|first_seen|search_city|search_country|     search_position| job_level|job_type|          job_skills|  cleaned_job_skills|\n",
            "+---+-----------+--------------------+-----------+-------+---------------+--------------------+--------------------+--------------------+----------+-----------+--------------+--------------------+----------+--------+--------------------+--------------------+\n",
            "|  0| 3802078767|2024-01-21 07:12:...|       true|   true|          false|Account Executive...|                  BD|       San Diego, CA|2024-01-15|   Coronado| United States|         Color Maker|Mid senior|  Onsite|Medical equipment...|[medical equipmen...|\n",
            "|  1| 3803386312|2024-01-21 07:39:...|       true|   true|          false|Registered Nurse ...|   Trinity Health MI|   Norton Shores, MI|2024-01-14|Grand Haven| United States|Director Nursing ...|Mid senior|  Onsite|Nursing, Bachelor...|[nursing, bachelo...|\n",
            "|  2| 3771464419|2024-01-21 07:40:...|       true|   true|          false|RESTAURANT SUPERV...|Wasatch Adaptive ...|           Sandy, UT|2024-01-14|     Tooele| United States|            Stand-In|Mid senior|  Onsite|Restaurant Operat...|[restaurant opera...|\n",
            "|  3| 3797661348|2024-01-21 07:40:...|       true|   true|          false|Independent Real ...|Howard Hanna | Ra...|Englewood Cliffs, NJ|2024-01-16|  Pinehurst| United States|   Real-Estate Clerk|Mid senior|  Onsite|Real Estate, Cust...|[real estate, cus...|\n",
            "|  4| 3790954711|2024-01-21 08:08:...|       true|   true|          false|Registered Nurse ...|   Trinity Health MI|        Muskegon, MI|2024-01-14|   Muskegon| United States|  Nurse Practitioner|Mid senior|  Onsite|Nursing, BSN, Med...|[nursing, bsn, me...|\n",
            "+---+-----------+--------------------+-----------+-------+---------------+--------------------+--------------------+--------------------+----------+-----------+--------------+--------------------+----------+--------+--------------------+--------------------+\n",
            "only showing top 5 rows\n",
            "\n",
            "+---------------------------------------------------------------------------------------------------------------------------------------------------------------------------------------------------------------------------------------------------------------------------------------------------------------------------------------------------------------------------------------------------------------------------------------------------------------------------------------------------------------------------------------------------------------------------------------------------------------------------------------------------------------------------------------------------------------------------------------------------------------------------------------------------------------------------------------------------------------------------------------------------------------------------------------------------------------------------------------------------------------------------------------------------------------------------------------------------------------------------------------------------------------------------------------------------+-----------------------------------------------------------------------------------------------------------------------------------------------------------------------------------------------------------------------------------------------------------------------------------------------------------------------------------------------------------------------------------------------------------------------------------------------------------------------------------------------------------------------------------------------------------------------------------------------------------------------------------------------------------------------------------------------------------------------------------------------------------------------------------------------------------------------------------------------------------------------------------------------------------------------------------------------------------------------------------------------------------------------------------------------------------------------------------------------------------------------------------------------------------------------------------------------------+\n",
            "|job_skills                                                                                                                                                                                                                                                                                                                                                                                                                                                                                                                                                                                                                                                                                                                                                                                                                                                                                                                                                                                                                                                                                                                                                                                         |cleaned_job_skills                                                                                                                                                                                                                                                                                                                                                                                                                                                                                                                                                                                                                                                                                                                                                                                                                                                                                                                                                                                                                                                                                                                                                                                   |\n",
            "+---------------------------------------------------------------------------------------------------------------------------------------------------------------------------------------------------------------------------------------------------------------------------------------------------------------------------------------------------------------------------------------------------------------------------------------------------------------------------------------------------------------------------------------------------------------------------------------------------------------------------------------------------------------------------------------------------------------------------------------------------------------------------------------------------------------------------------------------------------------------------------------------------------------------------------------------------------------------------------------------------------------------------------------------------------------------------------------------------------------------------------------------------------------------------------------------------+-----------------------------------------------------------------------------------------------------------------------------------------------------------------------------------------------------------------------------------------------------------------------------------------------------------------------------------------------------------------------------------------------------------------------------------------------------------------------------------------------------------------------------------------------------------------------------------------------------------------------------------------------------------------------------------------------------------------------------------------------------------------------------------------------------------------------------------------------------------------------------------------------------------------------------------------------------------------------------------------------------------------------------------------------------------------------------------------------------------------------------------------------------------------------------------------------------+\n",
            "|Medical equipment sales, Key competitors, Terminology, Technology, Trends, Challenges, Reimbursement, Government regulation, BD offerings, Pipeline management, Opportunity planning, Solution Sales Process, Customer relationships, Collaboration, Negotiation, Internal and external customer satisfaction, Trust building, Sales opportunities, New solution introduction, Pharmacy, IT, Nursing, Csuite, Bachelor's Degree, Travel, Driver's license                                                                                                                                                                                                                                                                                                                                                                                                                                                                                                                                                                                                                                                                                                                                          |[medical equipment sales, key competitors, terminology, technology, trend, challenge, reimbursement, government regulation, bd offerings, pipeline management, opportunity planning, solution sales process, customer relationships, collaboration, negotiation, internal and external customer satisfaction, trust building, sales opportunities, new solution introduction, pharmacy, nursing, csuite, bachelors degree, travel, drivers license]                                                                                                                                                                                                                                                                                                                                                                                                                                                                                                                                                                                                                                                                                                                                                  |\n",
            "|Nursing, Bachelor of Science in Nursing, Masters Degree in Nursing, Care management experience, Clinical experience in nursing, Licensure to practice nursing in Michigan, Population management, Selfmanagement, Education, Oversight of registries, Patient education, Patient selfmanagement, Patient care coordination, Chronic condition management, Complex illness management, Hospitalization avoidance, Emergency room visit avoidance                                                                                                                                                                                                                                                                                                                                                                                                                                                                                                                                                                                                                                                                                                                                                    |[nursing, bachelor of science in nursing, masters degree in nursing, care management experience, clinical experience in nursing, licensure to practice nursing in michigan, population management, selfmanagement, education, oversight of registries, patient education, patient selfmanagement, patient care coordination, chronic condition management, complex illness management, hospitalization avoidance, emergency room visit avoidance]                                                                                                                                                                                                                                                                                                                                                                                                                                                                                                                                                                                                                                                                                                                                                    |\n",
            "|Restaurant Operations Management, Inventory Management, Food and Beverage Ordering, Profit Optimization, Guest Service, Front and Back of House Coordination, Employee Performance Management, Discipline and Rewards Management, Safety and Sanitation Maintenance, Directional Flow Management, Daily Records Maintenance, Profit and Loss Statement Preparation, Guest Complaint Handling, Interpersonal Skills, Guest Service Skills, Listening Skills, Oral Communication Skills, Conflict Management Skills, Dispute Resolution Skills, Reading and Writing Proficiency, Arithmetic Skills, Menu and Wine List Knowledge, Wine Knowledge, Money Handling Proficiency, Staff Direction, Guest Issue Resolution, Microsoft Office Applications, Data Protection and Security, PCI DSS Compliance, Privacy and Confidentiality, Reporting and Storage of Sensitive Information, Snowbird Operations Knowledge, Variable Work Schedule, Overnight Stays, Stress Management, Physical Strength, Tray Carrying Ability, Standing Ability, Bending and Kneeling Ability, Repetitive Motions Ability, Professional Appearance, Drug and Alcohol Policy Compliance, Employee Conduct Policy Compliance|[restaurant operations management, inventory management, food and beverage ordering, profit optimization, guest service, front and back of house coordination, employee performance management, discipline and rewards management, safety and sanitation maintenance, directional flow management, daily records maintenance, profit and loss statement preparation, guest complaint handling, interpersonal skills, guest service skills, listening skills, oral communication skills, conflict management skills, dispute resolution skills, reading and writing proficiency, arithmetic skills, menu and wine list knowledge, wine knowledge, money handling proficiency, staff direction, guest issue resolution, microsoft office applications, data protection and security, pci dss compliance, privacy and confidentiality, reporting and storage of sensitive information, snowbird operations knowledge, variable work schedule, overnight stays, stress management, physical strength, tray carrying ability, standing ability, bending and kneeling ability, repetitive motions ability, professional appearance, drug and alcohol policy compliance, employee conduct policy compliance]|\n",
            "|Real Estate, Customer Service, Sales, Negotiation, Communication, Home Listings, Local Real Estate Market, Representation Contracts, Purchase Agreements, Closing Statements, Deeds, Leases, Networking, Relationship Building, Flexibility, Work/Life Balance, High Income Potential, Equal Opportunity Employer                                                                                                                                                                                                                                                                                                                                                                                                                                                                                                                                                                                                                                                                                                                                                                                                                                                                                  |[real estate, customer service, sale, negotiation, communication, home listings, local real estate market, representation contracts, purchase agreements, closing statements, deed, lease, networking, relationship building, flexibility, worklife balance, high income potential, equal opportunity employer]                                                                                                                                                                                                                                                                                                                                                                                                                                                                                                                                                                                                                                                                                                                                                                                                                                                                                      |\n",
            "|Nursing, BSN, Medical License, Virtual RN, Nursing Support, Diversity, Equity, Inclusion, Equal Opportunity Employer                                                                                                                                                                                                                                                                                                                                                                                                                                                                                                                                                                                                                                                                                                                                                                                                                                                                                                                                                                                                                                                                               |[nursing, bsn, medical license, virtual rn, nursing support, diversity, equity, inclusion, equal opportunity employer]                                                                                                                                                                                                                                                                                                                                                                                                                                                                                                                                                                                                                                                                                                                                                                                                                                                                                                                                                                                                                                                                               |\n",
            "+---------------------------------------------------------------------------------------------------------------------------------------------------------------------------------------------------------------------------------------------------------------------------------------------------------------------------------------------------------------------------------------------------------------------------------------------------------------------------------------------------------------------------------------------------------------------------------------------------------------------------------------------------------------------------------------------------------------------------------------------------------------------------------------------------------------------------------------------------------------------------------------------------------------------------------------------------------------------------------------------------------------------------------------------------------------------------------------------------------------------------------------------------------------------------------------------------+-----------------------------------------------------------------------------------------------------------------------------------------------------------------------------------------------------------------------------------------------------------------------------------------------------------------------------------------------------------------------------------------------------------------------------------------------------------------------------------------------------------------------------------------------------------------------------------------------------------------------------------------------------------------------------------------------------------------------------------------------------------------------------------------------------------------------------------------------------------------------------------------------------------------------------------------------------------------------------------------------------------------------------------------------------------------------------------------------------------------------------------------------------------------------------------------------------+\n",
            "only showing top 5 rows\n",
            "\n"
          ]
        },
        {
          "data": {
            "text/plain": [
              "[Row(sn=1292936, job_link_id=3734494804, last_processed_time=datetime.datetime(2024, 1, 21, 0, 38, 44, 231492), got_summary=True, got_ner=True, is_being_worked=False, job_title='On-Demand: Guest Advocate (Cashier), General Merchandise, Fulfillment, Food and Beverage, Style (T2632)', company='Target', job_location='Culver City, CA', first_seen='2024-01-12', search_city='Malibu', search_country='United States', search_position='Cashier Ii', job_level='Mid senior', job_type='Onsite', job_skills='Customer service, Communication, Problem solving, Decision making, Adaptability, Sales promotion, Product knowledge, Cash handling, Merchandise handling, Flexible work schedule, Regular attendance, Ability to work independently and with a team, Ability to communicate effectively, Welcoming and helpful attitude, Attention to detail, Willingness to educate guests and sell products and services, Ability to learn and adapt to evolving technology needs, ability to work both independently and with a team, Working in a fun and energetic environment, Providing service to guests, Interacting with people, Ability to work nights weekends and holidays', cleaned_job_skills=['customer service', 'communication', 'problem solving', 'decision making', 'adaptability', 'sales promotion', 'product knowledge', 'cash handling', 'merchandise handling', 'flexible work schedule', 'regular attendance', 'ability to work independently and with a team', 'ability to communicate effectively', 'welcoming and helpful attitude', 'attention to detail', 'willingness to educate guests and sell products and services', 'ability to learn and adapt to evolving technology needs', 'ability to work both independently and with a team', 'working in a fun and energetic environment', 'providing service to guests', 'interacting with people', 'ability to work nights weekends and holidays'])]"
            ]
          },
          "execution_count": 13,
          "metadata": {},
          "output_type": "execute_result"
        }
      ],
      "source": [
        "# Show cleaned DataFrame\n",
        "# df_posts_skills_cleaned.show(truncate=False)\n",
        "\n",
        "# df_posts_skills_cleaned.tail(1)\n",
        "\n",
        "# Show the DataFrame schema and some sample data\n",
        "df_posts_skills_cleaned.printSchema()\n",
        "df_posts_skills_cleaned.show(5)\n",
        "\n",
        "# Observe \"processed_job_skills\" column\n",
        "df_posts_skills_cleaned.select(\"job_skills\", \"cleaned_job_skills\").show(5, truncate=False)\n",
        "\n",
        "# Observe last row\n",
        "df_posts_skills_cleaned.tail(1)"
      ]
    },
    {
      "cell_type": "markdown",
      "metadata": {
        "id": "qZI7WDmLnpO1"
      },
      "source": [
        "## 4. Apply CountVectorizer\n",
        "\n",
        "Similar to Term Frequency (of each skills phrase)"
      ]
    },
    {
      "cell_type": "code",
      "execution_count": null,
      "metadata": {
        "id": "U92uj9u0G4N_"
      },
      "outputs": [],
      "source": [
        "# Apply CountVectorizer to count the occurrences of each phrase\n",
        "vectorizer = CountVectorizer(inputCol=\"cleaned_job_skills\", outputCol=\"skills_frequency\", minDF=100)\n",
        "\n",
        "vectorizer_model = vectorizer.fit(df_posts_skills_cleaned)\n",
        "df_posts_skills_cleaned_vectorise = vectorizer_model.transform(df_posts_skills_cleaned)\n"
      ]
    },
    {
      "cell_type": "code",
      "execution_count": null,
      "metadata": {
        "colab": {
          "base_uri": "https://localhost:8080/"
        },
        "id": "pVXpRQda3Nge",
        "outputId": "2dd158a9-31a4-4c84-f345-a8695fcad3f5"
      },
      "outputs": [
        {
          "name": "stdout",
          "output_type": "stream",
          "text": [
            "root\n",
            " |-- sn: integer (nullable = true)\n",
            " |-- job_link_id: long (nullable = true)\n",
            " |-- last_processed_time: timestamp (nullable = true)\n",
            " |-- got_summary: boolean (nullable = true)\n",
            " |-- got_ner: boolean (nullable = true)\n",
            " |-- is_being_worked: boolean (nullable = true)\n",
            " |-- job_title: string (nullable = true)\n",
            " |-- company: string (nullable = true)\n",
            " |-- job_location: string (nullable = true)\n",
            " |-- first_seen: string (nullable = true)\n",
            " |-- search_city: string (nullable = true)\n",
            " |-- search_country: string (nullable = true)\n",
            " |-- search_position: string (nullable = true)\n",
            " |-- job_level: string (nullable = true)\n",
            " |-- job_type: string (nullable = true)\n",
            " |-- job_skills: string (nullable = true)\n",
            " |-- cleaned_job_skills: array (nullable = true)\n",
            " |    |-- element: string (containsNull = true)\n",
            " |-- skills_frequency: vector (nullable = true)\n",
            "\n",
            "+---+-----------+--------------------+-----------+-------+---------------+--------------------+--------------------+--------------------+----------+-----------+--------------+--------------------+----------+--------+--------------------+--------------------+--------------------+\n",
            "| sn|job_link_id| last_processed_time|got_summary|got_ner|is_being_worked|           job_title|             company|        job_location|first_seen|search_city|search_country|     search_position| job_level|job_type|          job_skills|  cleaned_job_skills|    skills_frequency|\n",
            "+---+-----------+--------------------+-----------+-------+---------------+--------------------+--------------------+--------------------+----------+-----------+--------------+--------------------+----------+--------+--------------------+--------------------+--------------------+\n",
            "|  0| 3802078767|2024-01-21 07:12:...|       true|   true|          false|Account Executive...|                  BD|       San Diego, CA|2024-01-15|   Coronado| United States|         Color Maker|Mid senior|  Onsite|Medical equipment...|[medical equipmen...|(21083,[13,14,20,...|\n",
            "|  1| 3803386312|2024-01-21 07:39:...|       true|   true|          false|Registered Nurse ...|   Trinity Health MI|   Norton Shores, MI|2024-01-14|Grand Haven| United States|Director Nursing ...|Mid senior|  Onsite|Nursing, Bachelor...|[nursing, bachelo...|(21083,[13,77,88,...|\n",
            "|  2| 3771464419|2024-01-21 07:40:...|       true|   true|          false|RESTAURANT SUPERV...|Wasatch Adaptive ...|           Sandy, UT|2024-01-14|     Tooele| United States|            Stand-In|Mid senior|  Onsite|Restaurant Operat...|[restaurant opera...|(21083,[10,19,112...|\n",
            "|  3| 3797661348|2024-01-21 07:40:...|       true|   true|          false|Independent Real ...|Howard Hanna | Ra...|Englewood Cliffs, NJ|2024-01-16|  Pinehurst| United States|   Real-Estate Clerk|Mid senior|  Onsite|Real Estate, Cust...|[real estate, cus...|(21083,[0,1,12,27...|\n",
            "|  4| 3790954711|2024-01-21 08:08:...|       true|   true|          false|Registered Nurse ...|   Trinity Health MI|        Muskegon, MI|2024-01-14|   Muskegon| United States|  Nurse Practitioner|Mid senior|  Onsite|Nursing, BSN, Med...|[nursing, bsn, me...|(21083,[13,75,101...|\n",
            "+---+-----------+--------------------+-----------+-------+---------------+--------------------+--------------------+--------------------+----------+-----------+--------------+--------------------+----------+--------+--------------------+--------------------+--------------------+\n",
            "only showing top 5 rows\n",
            "\n"
          ]
        },
        {
          "data": {
            "text/plain": [
              "[Row(sn=1292934, job_link_id=3739779610, last_processed_time=datetime.datetime(2024, 1, 21, 7, 40, 0, 304641), got_summary=True, got_ner=True, is_being_worked=False, job_title='Executive Chef, Operations Support', company='NEXDINE Hospitality', job_location='Riverhead, NY', first_seen='2024-01-14', search_city='Eastport', search_country='United States', search_position='Chef', job_level='Mid senior', job_type='Onsite', job_skills='Culinary, Chef Director, Menu writing, Cycle of cost control, Food production, Food presentation, Catering operations, Vendor partner relationships, Food purchasing, Quality control, Staff scheduling, Payroll processing, Safety, Sanitation, Food handling, Uniform guidelines, Productivity, Customer relationship management, Account retention, P&L management, Food costs, Labor costs, Supplies, Uniforms, Equipment, Inventory management, Financial reporting, People management, Recruitment, Hiring, Termination, Review process, Staff management, Customer service, High School diploma, Food service management, Corporate dining, Culinary School degree, Microsoft Office Suite, Senior Living experience, ServSafe Certification, Allergen Awareness Certification', cleaned_job_skills=['culinary', 'chef director', 'menu writing', 'cycle of cost control', 'food production', 'food presentation', 'catering operations', 'vendor partner relationships', 'food purchasing', 'quality control', 'staff scheduling', 'payroll processing', 'safety', 'sanitation', 'food handling', 'uniform guidelines', 'productivity', 'customer relationship management', 'account retention', 'pl management', 'food costs', 'labor costs', 'supply', 'uniform', 'equipment', 'inventory management', 'financial reporting', 'people management', 'recruitment', 'hiring', 'termination', 'review process', 'staff management', 'customer service', 'high school diploma', 'food service management', 'corporate dining', 'culinary school degree', 'microsoft office suite', 'senior living experience', 'servsafe certification', 'allergen awareness certification'], skills_frequency=SparseVector(21083, {1: 1.0, 17: 1.0, 19: 1.0, 21: 1.0, 31: 1.0, 40: 1.0, 111: 1.0, 145: 1.0, 153: 1.0, 211: 1.0, 246: 1.0, 302: 1.0, 442: 1.0, 523: 1.0, 561: 1.0, 565: 1.0, 676: 1.0, 787: 1.0, 1280: 1.0, 1307: 1.0, 1520: 1.0, 1589: 1.0, 1828: 1.0, 1918: 1.0, 2051: 1.0, 2381: 1.0, 2756: 1.0, 11303: 1.0, 11789: 1.0, 15238: 1.0, 18077: 1.0})),\n",
              " Row(sn=1292935, job_link_id=3802207476, last_processed_time=datetime.datetime(2024, 1, 21, 0, 38, 39, 816821), got_summary=True, got_ner=True, is_being_worked=False, job_title='RN- Registered Nurse, Analyst - - 23934913EXPPLAT /', company='TravelNurseSource', job_location='Aurora, CO', first_seen='2024-01-16', search_city='Colorado', search_country='United States', search_position='Occupational Analyst', job_level='Mid senior', job_type='Onsite', job_skills='Registered Nurse, Analyst, RN Registered Nurse, Medical/Dental/Vision, Retirement Plan, Referral Bonus, Overtime Premium Pay, Holiday Premium Pay, Housing Assistance, Stipend, Current Resume, RN Registered Nurse education program, Previous work experience, Active RN license, Professional references, Background check, Urine drug screening, Compliance items', cleaned_job_skills=['registered nurse', 'analyst', 'rn registered nurse', 'medicaldentalvision', 'retirement plan', 'referral bonus', 'overtime premium pay', 'holiday premium pay', 'housing assistance', 'stipend', 'current resume', 'rn registered nurse education program', 'previous work experience', 'active rn license', 'professional references', 'background check', 'urine drug screening', 'compliance items'], skills_frequency=SparseVector(21083, {55: 1.0, 163: 1.0, 227: 1.0, 456: 1.0, 913: 1.0, 1706: 1.0, 1948: 1.0, 2266: 1.0, 2807: 1.0, 2867: 1.0, 3475: 1.0, 4298: 1.0, 4401: 1.0, 4538: 1.0, 13349: 1.0, 19070: 1.0})),\n",
              " Row(sn=1292936, job_link_id=3734494804, last_processed_time=datetime.datetime(2024, 1, 21, 0, 38, 44, 231492), got_summary=True, got_ner=True, is_being_worked=False, job_title='On-Demand: Guest Advocate (Cashier), General Merchandise, Fulfillment, Food and Beverage, Style (T2632)', company='Target', job_location='Culver City, CA', first_seen='2024-01-12', search_city='Malibu', search_country='United States', search_position='Cashier Ii', job_level='Mid senior', job_type='Onsite', job_skills='Customer service, Communication, Problem solving, Decision making, Adaptability, Sales promotion, Product knowledge, Cash handling, Merchandise handling, Flexible work schedule, Regular attendance, Ability to work independently and with a team, Ability to communicate effectively, Welcoming and helpful attitude, Attention to detail, Willingness to educate guests and sell products and services, Ability to learn and adapt to evolving technology needs, ability to work both independently and with a team, Working in a fun and energetic environment, Providing service to guests, Interacting with people, Ability to work nights weekends and holidays', cleaned_job_skills=['customer service', 'communication', 'problem solving', 'decision making', 'adaptability', 'sales promotion', 'product knowledge', 'cash handling', 'merchandise handling', 'flexible work schedule', 'regular attendance', 'ability to work independently and with a team', 'ability to communicate effectively', 'welcoming and helpful attitude', 'attention to detail', 'willingness to educate guests and sell products and services', 'ability to learn and adapt to evolving technology needs', 'ability to work both independently and with a team', 'working in a fun and energetic environment', 'providing service to guests', 'interacting with people', 'ability to work nights weekends and holidays'], skills_frequency=SparseVector(21083, {0: 1.0, 1: 1.0, 5: 1.0, 7: 1.0, 26: 1.0, 47: 1.0, 59: 1.0, 102: 1.0, 379: 1.0, 759: 1.0, 995: 1.0, 1776: 1.0, 3375: 1.0, 3546: 1.0, 5101: 1.0, 12065: 1.0, 14372: 1.0}))]"
            ]
          },
          "execution_count": 15,
          "metadata": {},
          "output_type": "execute_result"
        }
      ],
      "source": [
        "# Show the DataFrame schema and some sample data\n",
        "df_posts_skills_cleaned_vectorise.printSchema()\n",
        "df_posts_skills_cleaned_vectorise.show(5)\n",
        "\n",
        "# Observe \"processed_job_skills\" column\n",
        "df_posts_skills_cleaned_vectorise.tail(3)"
      ]
    },
    {
      "cell_type": "markdown",
      "metadata": {
        "id": "OILJSsoBEflw"
      },
      "source": [
        "## 5. Calculate TFIDF"
      ]
    },
    {
      "cell_type": "code",
      "execution_count": null,
      "metadata": {
        "id": "MvxXqaqa3Nkl"
      },
      "outputs": [],
      "source": [
        "# Compute Inverse Document Frequency (IDF)\n",
        "# Create IDF instance to compute inverse document frequencies\n",
        "idf = IDF(inputCol=\"skills_frequency\", outputCol=\"skills_tfidf\")\n",
        "idf_model = idf.fit(df_posts_skills_cleaned_vectorise)\n",
        "\n",
        "# Compute TF-IDF\n",
        "# Call \"fit\" to compute the IDF vector and then call \"transform\" to scale the term frequencies by IDF.\n",
        "df_posts_skills_tfidf = idf_model.transform(df_posts_skills_cleaned_vectorise)"
      ]
    },
    {
      "cell_type": "code",
      "execution_count": null,
      "metadata": {
        "colab": {
          "base_uri": "https://localhost:8080/"
        },
        "id": "c08oQnsYTCLP",
        "outputId": "65b57129-092b-4e35-f3ab-3edfbf63ef2f"
      },
      "outputs": [
        {
          "name": "stdout",
          "output_type": "stream",
          "text": [
            "root\n",
            " |-- sn: integer (nullable = true)\n",
            " |-- job_link_id: long (nullable = true)\n",
            " |-- last_processed_time: timestamp (nullable = true)\n",
            " |-- got_summary: boolean (nullable = true)\n",
            " |-- got_ner: boolean (nullable = true)\n",
            " |-- is_being_worked: boolean (nullable = true)\n",
            " |-- job_title: string (nullable = true)\n",
            " |-- company: string (nullable = true)\n",
            " |-- job_location: string (nullable = true)\n",
            " |-- first_seen: string (nullable = true)\n",
            " |-- search_city: string (nullable = true)\n",
            " |-- search_country: string (nullable = true)\n",
            " |-- search_position: string (nullable = true)\n",
            " |-- job_level: string (nullable = true)\n",
            " |-- job_type: string (nullable = true)\n",
            " |-- job_skills: string (nullable = true)\n",
            " |-- cleaned_job_skills: array (nullable = true)\n",
            " |    |-- element: string (containsNull = true)\n",
            " |-- skills_frequency: vector (nullable = true)\n",
            " |-- skills_tfidf: vector (nullable = true)\n",
            "\n",
            "+---+-----------+--------------------+-----------+-------+---------------+--------------------+--------------------+--------------------+----------+-----------+--------------+--------------------+----------+--------+--------------------+--------------------+--------------------+--------------------+\n",
            "| sn|job_link_id| last_processed_time|got_summary|got_ner|is_being_worked|           job_title|             company|        job_location|first_seen|search_city|search_country|     search_position| job_level|job_type|          job_skills|  cleaned_job_skills|    skills_frequency|        skills_tfidf|\n",
            "+---+-----------+--------------------+-----------+-------+---------------+--------------------+--------------------+--------------------+----------+-----------+--------------+--------------------+----------+--------+--------------------+--------------------+--------------------+--------------------+\n",
            "|  0| 3802078767|2024-01-21 07:12:...|       true|   true|          false|Account Executive...|                  BD|       San Diego, CA|2024-01-15|   Coronado| United States|         Color Maker|Mid senior|  Onsite|Medical equipment...|[medical equipmen...|(21083,[13,14,20,...|(21083,[13,14,20,...|\n",
            "|  1| 3803386312|2024-01-21 07:39:...|       true|   true|          false|Registered Nurse ...|   Trinity Health MI|   Norton Shores, MI|2024-01-14|Grand Haven| United States|Director Nursing ...|Mid senior|  Onsite|Nursing, Bachelor...|[nursing, bachelo...|(21083,[13,77,88,...|(21083,[13,77,88,...|\n",
            "|  2| 3771464419|2024-01-21 07:40:...|       true|   true|          false|RESTAURANT SUPERV...|Wasatch Adaptive ...|           Sandy, UT|2024-01-14|     Tooele| United States|            Stand-In|Mid senior|  Onsite|Restaurant Operat...|[restaurant opera...|(21083,[10,19,112...|(21083,[10,19,112...|\n",
            "|  3| 3797661348|2024-01-21 07:40:...|       true|   true|          false|Independent Real ...|Howard Hanna | Ra...|Englewood Cliffs, NJ|2024-01-16|  Pinehurst| United States|   Real-Estate Clerk|Mid senior|  Onsite|Real Estate, Cust...|[real estate, cus...|(21083,[0,1,12,27...|(21083,[0,1,12,27...|\n",
            "|  4| 3790954711|2024-01-21 08:08:...|       true|   true|          false|Registered Nurse ...|   Trinity Health MI|        Muskegon, MI|2024-01-14|   Muskegon| United States|  Nurse Practitioner|Mid senior|  Onsite|Nursing, BSN, Med...|[nursing, bsn, me...|(21083,[13,75,101...|(21083,[13,75,101...|\n",
            "+---+-----------+--------------------+-----------+-------+---------------+--------------------+--------------------+--------------------+----------+-----------+--------------+--------------------+----------+--------+--------------------+--------------------+--------------------+--------------------+\n",
            "only showing top 5 rows\n",
            "\n"
          ]
        },
        {
          "data": {
            "text/plain": [
              "[Row(sn=1292934, job_link_id=3739779610, last_processed_time=datetime.datetime(2024, 1, 21, 7, 40, 0, 304641), got_summary=True, got_ner=True, is_being_worked=False, job_title='Executive Chef, Operations Support', company='NEXDINE Hospitality', job_location='Riverhead, NY', first_seen='2024-01-14', search_city='Eastport', search_country='United States', search_position='Chef', job_level='Mid senior', job_type='Onsite', job_skills='Culinary, Chef Director, Menu writing, Cycle of cost control, Food production, Food presentation, Catering operations, Vendor partner relationships, Food purchasing, Quality control, Staff scheduling, Payroll processing, Safety, Sanitation, Food handling, Uniform guidelines, Productivity, Customer relationship management, Account retention, P&L management, Food costs, Labor costs, Supplies, Uniforms, Equipment, Inventory management, Financial reporting, People management, Recruitment, Hiring, Termination, Review process, Staff management, Customer service, High School diploma, Food service management, Corporate dining, Culinary School degree, Microsoft Office Suite, Senior Living experience, ServSafe Certification, Allergen Awareness Certification', cleaned_job_skills=['culinary', 'chef director', 'menu writing', 'cycle of cost control', 'food production', 'food presentation', 'catering operations', 'vendor partner relationships', 'food purchasing', 'quality control', 'staff scheduling', 'payroll processing', 'safety', 'sanitation', 'food handling', 'uniform guidelines', 'productivity', 'customer relationship management', 'account retention', 'pl management', 'food costs', 'labor costs', 'supply', 'uniform', 'equipment', 'inventory management', 'financial reporting', 'people management', 'recruitment', 'hiring', 'termination', 'review process', 'staff management', 'customer service', 'high school diploma', 'food service management', 'corporate dining', 'culinary school degree', 'microsoft office suite', 'senior living experience', 'servsafe certification', 'allergen awareness certification'], skills_frequency=SparseVector(21083, {1: 1.0, 17: 1.0, 19: 1.0, 21: 1.0, 31: 1.0, 40: 1.0, 111: 1.0, 145: 1.0, 153: 1.0, 211: 1.0, 246: 1.0, 302: 1.0, 442: 1.0, 523: 1.0, 561: 1.0, 565: 1.0, 676: 1.0, 787: 1.0, 1280: 1.0, 1307: 1.0, 1520: 1.0, 1589: 1.0, 1828: 1.0, 1918: 1.0, 2051: 1.0, 2381: 1.0, 2756: 1.0, 11303: 1.0, 11789: 1.0, 15238: 1.0, 18077: 1.0}), skills_tfidf=SparseVector(21083, {1: 1.5422, 17: 2.8477, 19: 2.8942, 21: 2.9564, 31: 3.3459, 40: 3.5362, 111: 4.1985, 145: 4.3884, 153: 4.4124, 211: 4.7163, 246: 4.8519, 302: 5.0064, 442: 5.3463, 523: 5.5087, 561: 5.5728, 565: 5.6218, 676: 5.7877, 787: 5.9374, 1280: 6.3753, 1307: 6.3946, 1520: 6.5763, 1589: 6.6154, 1828: 6.7753, 1918: 6.8042, 2051: 6.8908, 2381: 7.0549, 2756: 7.234, 11303: 8.7397, 11789: 8.7994, 15238: 9.082, 18077: 9.2766})),\n",
              " Row(sn=1292935, job_link_id=3802207476, last_processed_time=datetime.datetime(2024, 1, 21, 0, 38, 39, 816821), got_summary=True, got_ner=True, is_being_worked=False, job_title='RN- Registered Nurse, Analyst - - 23934913EXPPLAT /', company='TravelNurseSource', job_location='Aurora, CO', first_seen='2024-01-16', search_city='Colorado', search_country='United States', search_position='Occupational Analyst', job_level='Mid senior', job_type='Onsite', job_skills='Registered Nurse, Analyst, RN Registered Nurse, Medical/Dental/Vision, Retirement Plan, Referral Bonus, Overtime Premium Pay, Holiday Premium Pay, Housing Assistance, Stipend, Current Resume, RN Registered Nurse education program, Previous work experience, Active RN license, Professional references, Background check, Urine drug screening, Compliance items', cleaned_job_skills=['registered nurse', 'analyst', 'rn registered nurse', 'medicaldentalvision', 'retirement plan', 'referral bonus', 'overtime premium pay', 'holiday premium pay', 'housing assistance', 'stipend', 'current resume', 'rn registered nurse education program', 'previous work experience', 'active rn license', 'professional references', 'background check', 'urine drug screening', 'compliance items'], skills_frequency=SparseVector(21083, {55: 1.0, 163: 1.0, 227: 1.0, 456: 1.0, 913: 1.0, 1706: 1.0, 1948: 1.0, 2266: 1.0, 2807: 1.0, 2867: 1.0, 3475: 1.0, 4298: 1.0, 4401: 1.0, 4538: 1.0, 13349: 1.0, 19070: 1.0}), skills_tfidf=SparseVector(21083, {55: 3.6608, 163: 4.4473, 227: 4.7756, 456: 5.3635, 913: 6.0654, 1706: 6.6841, 1948: 6.8246, 2266: 7.0214, 2807: 7.2394, 2867: 7.2623, 3475: 7.455, 4298: 7.694, 4401: 7.7129, 4538: 7.7427, 13349: 8.9308, 19070: 9.345})),\n",
              " Row(sn=1292936, job_link_id=3734494804, last_processed_time=datetime.datetime(2024, 1, 21, 0, 38, 44, 231492), got_summary=True, got_ner=True, is_being_worked=False, job_title='On-Demand: Guest Advocate (Cashier), General Merchandise, Fulfillment, Food and Beverage, Style (T2632)', company='Target', job_location='Culver City, CA', first_seen='2024-01-12', search_city='Malibu', search_country='United States', search_position='Cashier Ii', job_level='Mid senior', job_type='Onsite', job_skills='Customer service, Communication, Problem solving, Decision making, Adaptability, Sales promotion, Product knowledge, Cash handling, Merchandise handling, Flexible work schedule, Regular attendance, Ability to work independently and with a team, Ability to communicate effectively, Welcoming and helpful attitude, Attention to detail, Willingness to educate guests and sell products and services, Ability to learn and adapt to evolving technology needs, ability to work both independently and with a team, Working in a fun and energetic environment, Providing service to guests, Interacting with people, Ability to work nights weekends and holidays', cleaned_job_skills=['customer service', 'communication', 'problem solving', 'decision making', 'adaptability', 'sales promotion', 'product knowledge', 'cash handling', 'merchandise handling', 'flexible work schedule', 'regular attendance', 'ability to work independently and with a team', 'ability to communicate effectively', 'welcoming and helpful attitude', 'attention to detail', 'willingness to educate guests and sell products and services', 'ability to learn and adapt to evolving technology needs', 'ability to work both independently and with a team', 'working in a fun and energetic environment', 'providing service to guests', 'interacting with people', 'ability to work nights weekends and holidays'], skills_frequency=SparseVector(21083, {0: 1.0, 1: 1.0, 5: 1.0, 7: 1.0, 26: 1.0, 47: 1.0, 59: 1.0, 102: 1.0, 379: 1.0, 759: 1.0, 995: 1.0, 1776: 1.0, 3375: 1.0, 3546: 1.0, 5101: 1.0, 12065: 1.0, 14372: 1.0}), skills_tfidf=SparseVector(21083, {0: 1.25, 1: 1.5422, 5: 2.1811, 7: 2.2771, 26: 3.0936, 47: 3.5872, 59: 3.7095, 102: 4.1071, 379: 5.2105, 759: 5.8868, 995: 6.1444, 1776: 6.7753, 3375: 7.4247, 3546: 7.4835, 5101: 7.8862, 12065: 8.8202, 14372: 9.0098}))]"
            ]
          },
          "execution_count": 17,
          "metadata": {},
          "output_type": "execute_result"
        }
      ],
      "source": [
        "# Show the DataFrame schema and some sample data\n",
        "df_posts_skills_tfidf.printSchema()\n",
        "df_posts_skills_tfidf.show(5)\n",
        "\n",
        "# Observe \"processed_job_skills\" column\n",
        "df_posts_skills_tfidf.tail(3)"
      ]
    },
    {
      "cell_type": "markdown",
      "metadata": {
        "id": "VZtG9X6K8m8x"
      },
      "source": [
        "## 6. Preparing the User Profile (Preprocess Skills)"
      ]
    },
    {
      "cell_type": "code",
      "execution_count": null,
      "metadata": {
        "colab": {
          "base_uri": "https://localhost:8080/"
        },
        "id": "WO23_eNp8mYu",
        "outputId": "43baaa87-5404-47a2-b2d8-4ed044dab5ce"
      },
      "outputs": [
        {
          "name": "stdout",
          "output_type": "stream",
          "text": [
            "+---+------------------+--------------+----------+--------+-------------------------------------------------------------------------------------------------------------------------------------------------------------------------------------------------------------------------------------------------------------------------------------------------------+\n",
            "|sn |search_city       |search_country|job_level |job_type|job_skills                                                                                                                                                                                                                                                                                             |\n",
            "+---+------------------+--------------+----------+--------+-------------------------------------------------------------------------------------------------------------------------------------------------------------------------------------------------------------------------------------------------------------------------------------------------------+\n",
            "|1  |Seattle           |United States |Mid senior|Onsite  |Python, R, SQL, Machine learning, Data analysis, Statistical modeling, SAS, Matlab, Data Science, Statistics, Machine Learning, Operations Research, Communication, Problem Solving, Critical Thinking, Analytical Skills, Research, Modeling, Project Management                                      |\n",
            "|2  |New York          |United States |NULL      |NULL    |big data, data science, machine learning, data analysis, programming, python, data wrangling, database management, database,  predictive modeling,  problem solving, artificial intelligence, deep learning                                                                                            |\n",
            "|3  |NULL              |United Kingdom|Mid senior|NULL    |public speaking, presentation skills, media relations, crisis management, branding, public relations, reputation management, audience engagement, stakeholder engagement, press release writing, stakeholder engagement, media monitoring, marketing                                                   |\n",
            "|4  |Atlanta           |United States |Mid senior|Onsite  |leadership, teamwork, problem solving, communication, adaptability, time management, creativity, analytical thinking, decision making, conflict resolution, marketing, sales, presentation skills, communication skills                                                                                |\n",
            "|5  |NULL              |Canada        |NULL      |Remote  |coding, programming, technical skills, troubleshooting, software development, web development, linux, python, java, javascript, c++, html, php, sql, swift, ruby                                                                                                                                       |\n",
            "|6  |Sydney            |Australia     |Associate |Onsite  |business consulting, presentation skills, team collaboration, negotiation, problem solving, sales, business development, technology, customer service, data analysis, salesforce, storytelling,  microsoft office, account management                                                                  |\n",
            "|7  |Greater London    |United Kingdom|Associate |Onsite  |financial analysis, budgeting, forecasting, auditing, investment analysis, risk assessment, financial modeling, tax planning, compliance, asset management                                                                                                                                             |\n",
            "|8  |NULL              |United States |NULL      |Hybrid  |business development, account management, account strategy, forecasting, sales forecasting, sales closing, lead generation, communication, negotiation, salesforce, technical sales                                                                                                                    |\n",
            "|9  |Greater Manchester|United Kingdom|NULL      |Onsite  |patient care, patient assessment, clinical assessment, medication administration, wound care, patient education, compassion, empathy, communication, teamwork, nursing, record keeping, care planning                                                                                                  |\n",
            "|10 |Chicago           |United States |NULL      |Onsite  |legal research, contract drafting, litigation, litigation support, legal writing, case analysis, negotiation, legal compliance, intellectual property law, corporate law, employment law, international trade law, regulatory affairs, court filings, legal documents, case management, file management|\n",
            "+---+------------------+--------------+----------+--------+-------------------------------------------------------------------------------------------------------------------------------------------------------------------------------------------------------------------------------------------------------------------------------------------------------+\n",
            "\n"
          ]
        }
      ],
      "source": [
        "# Load CSV into DataFrame\n",
        "df_queries = spark.read.csv(job_seeker_path, header=True, inferSchema=True)\n",
        "\n",
        "df_queries.show(truncate=False)"
      ]
    },
    {
      "cell_type": "code",
      "execution_count": null,
      "metadata": {
        "id": "85erX2c48mdb"
      },
      "outputs": [],
      "source": [
        "# Define function to clean \"skills\" column & transform into skills vector + calculate TF-IDF\n",
        "\n",
        "# Apply the same UDF to clean and tokenize job_skills column\n",
        "df_queries_cleaned = df_queries.withColumn(\"cleaned_job_skills\", clean_tokenize_udf(col(\"job_skills\")))\n",
        "\n",
        "# Transform into vector, using the vectorizer_model fitted on the list of job postings\n",
        "df_queries_vectorise = vectorizer_model.transform(df_queries_cleaned)\n",
        "\n",
        "# Compute the TF-IDF vector by calling \"transform\" based on the fitted idf_model.\n",
        "df_queries_tfidf = idf_model.transform(df_queries_vectorise)"
      ]
    },
    {
      "cell_type": "code",
      "execution_count": null,
      "metadata": {
        "colab": {
          "base_uri": "https://localhost:8080/"
        },
        "id": "paCkQsoaEXlk",
        "outputId": "d0de3cc6-82fe-44e8-c50d-7496599adbb4"
      },
      "outputs": [
        {
          "name": "stdout",
          "output_type": "stream",
          "text": [
            "+---+------------------+--------------+----------+--------+-------------------------------------------------------------------------------------------------------------------------------------------------------------------------------------------------------------------------------------------------------------------------------------------------------+---------------------------------------------------------------------------------------------------------------------------------------------------------------------------------------------------------------------------------------------------------------------------------------------------------+---------------------------------------------------------------------------------------------------------------------------------------------+--------------------------------------------------------------------------------------------------------------------------------------------------------------------------------------------------------------------------------------------------------------------------------------------------------------------------------------------------------------------------+\n",
            "|sn |search_city       |search_country|job_level |job_type|job_skills                                                                                                                                                                                                                                                                                             |cleaned_job_skills                                                                                                                                                                                                                                                                                       |skills_frequency                                                                                                                             |skills_tfidf                                                                                                                                                                                                                                                                                                                                                              |\n",
            "+---+------------------+--------------+----------+--------+-------------------------------------------------------------------------------------------------------------------------------------------------------------------------------------------------------------------------------------------------------------------------------------------------------+---------------------------------------------------------------------------------------------------------------------------------------------------------------------------------------------------------------------------------------------------------------------------------------------------------+---------------------------------------------------------------------------------------------------------------------------------------------+--------------------------------------------------------------------------------------------------------------------------------------------------------------------------------------------------------------------------------------------------------------------------------------------------------------------------------------------------------------------------+\n",
            "|1  |Seattle           |United States |Mid senior|Onsite  |Python, R, SQL, Machine learning, Data analysis, Statistical modeling, SAS, Matlab, Data Science, Statistics, Machine Learning, Operations Research, Communication, Problem Solving, Critical Thinking, Analytical Skills, Research, Modeling, Project Management                                      |[python, sql, machine learning, data analysis, statistical modeling, sa, matlab, data science, statistic, machine learning, operations research, communication, problem solving, critical thinking, analytical skills, modeling, project management]                                                     |(21083,[0,5,9,16,25,28,82,96,254,447,575,764,1303,1546,2950,4370],[1.0,1.0,1.0,1.0,1.0,1.0,1.0,1.0,2.0,1.0,1.0,1.0,1.0,1.0,1.0,1.0])         |(21083,[0,5,9,16,25,28,82,96,254,447,575,764,1303,1546,2950,4370],[1.2500295308629121,2.1810726547496775,2.377172351038831,2.7725469577681925,3.0684629382878756,3.2001138991887226,3.9455566310466805,4.087406250584235,9.805610334808003,5.370582342553151,5.611170147015692,5.920806059131876,6.409489855640091,6.59087200419211,7.2947811124665085,7.732068402373874])|\n",
            "|2  |New York          |United States |NULL      |NULL    |big data, data science, machine learning, data analysis, programming, python, data wrangling, database management, database,  predictive modeling,  problem solving, artificial intelligence, deep learning                                                                                            |[big data, data science, machine learning, data analysis, programming, python, data wrangling, database management, database, predictive modeling, problem solving, artificial intelligence, deep learning]                                                                                              |(21083,[5,16,82,254,413,522,575,606,621,1405,1764,5323,13872],[1.0,1.0,1.0,1.0,1.0,1.0,1.0,1.0,1.0,1.0,1.0,1.0,1.0])                         |(21083,[5,16,82,254,413,522,575,606,621,1405,1764,5323,13872],[2.1810726547496775,2.7725469577681925,3.9455566310466805,4.902805167404002,5.298114747816247,5.507587861218035,5.611170147015692,5.644940427769881,5.670645366196716,6.489689217187214,6.742678017060113,7.91544872051607,8.98483137086924])                                                               |\n",
            "|3  |NULL              |United Kingdom|Mid senior|NULL    |public speaking, presentation skills, media relations, crisis management, branding, public relations, reputation management, audience engagement, stakeholder engagement, press release writing, stakeholder engagement, media monitoring, marketing                                                   |[public speaking, presentation skills, media relations, crisis management, branding, public relations, reputation management, audience engagement, stakeholder engagement, press release writing, stakeholder engagement, media monitoring, marketing]                                                   |(21083,[66,67,234,525,558,605,2104,2486,10780,12241],[1.0,1.0,1.0,1.0,2.0,1.0,1.0,1.0,1.0,1.0])                                              |(21083,[66,67,234,525,558,605,2104,2486,10780,12241],[3.787016654040367,3.797100773106993,4.800804105708544,5.523154621221976,11.14191495030125,5.6486664594779405,6.927231571104454,7.1054605674876425,8.687932643312537,8.82540363394114])                                                                                                                              |\n",
            "|4  |Atlanta           |United States |Mid senior|Onsite  |leadership, teamwork, problem solving, communication, adaptability, time management, creativity, analytical thinking, decision making, conflict resolution, marketing, sales, presentation skills, communication skills                                                                                |[leadership, teamwork, problem solving, communication, adaptability, time management, creativity, analytical thinking, decision making, conflict resolution, marketing, sale, presentation skills, communication skills]                                                                                 |(21083,[0,2,3,4,5,6,12,26,37,47,66,67,209,237],[1.0,1.0,1.0,1.0,1.0,1.0,1.0,1.0,1.0,1.0,1.0,1.0,1.0,1.0])                                    |(21083,[0,2,3,4,5,6,12,26,37,47,66,67,209,237],[1.2500295308629121,1.7442259273383882,1.891508779454992,1.951733226522047,2.1810726547496775,2.2089298801314023,2.6353686815615207,3.093562374370302,3.474993292834988,3.5871715609889416,3.787016654040367,3.797100773106993,4.713322560860331,4.819890285425655])                                                       |\n",
            "|5  |NULL              |Canada        |NULL      |Remote  |coding, programming, technical skills, troubleshooting, software development, web development, linux, python, java, javascript, c++, html, php, sql, swift, ruby                                                                                                                                       |[coding, programming, technical skills, troubleshooting, software development, web development, linux, python, java, javascript, html, php, sql, swift, ruby]                                                                                                                                            |(21083,[33,82,96,179,238,252,268,335,409,522,970,1573,1759,2459,3981],[1.0,1.0,1.0,1.0,1.0,1.0,1.0,1.0,1.0,1.0,1.0,1.0,1.0,1.0,1.0])         |(21083,[33,82,96,179,238,252,268,335,409,522,970,1573,1759,2459,3981],[3.393752262669343,3.9455566310466805,4.087406250584235,4.534439633730615,4.827106365230197,4.8697163612899335,4.9276930912234365,5.107476494386972,5.293793753438834,5.507587861218035,6.1336254579471445,6.6022035702016595,6.727062865684757,7.097013778645674,7.610959529747908])               |\n",
            "|6  |Sydney            |Australia     |Associate |Onsite  |business consulting, presentation skills, team collaboration, negotiation, problem solving, sales, business development, technology, customer service, data analysis, salesforce, storytelling,  microsoft office, account management                                                                  |[business consulting, presentation skills, team collaboration, negotiation, problem solving, sale, business development, technology, customer service, data analysis, salesforce, storytelling, microsoft office, account management]                                                                    |(21083,[1,5,12,16,23,53,67,81,148,165,270,281,1174,6424],[1.0,1.0,1.0,1.0,1.0,1.0,1.0,1.0,1.0,1.0,1.0,1.0,1.0,1.0])                          |(21083,[1,5,12,16,23,53,67,81,148,165,270,281,1174,6424],[1.5422120893685682,2.1810726547496775,2.6353686815615207,2.7725469577681925,3.0445464144118954,3.6462551312870595,3.797100773106993,3.942442234438714,4.394398882837146,4.451767363291096,4.936487656701693,4.954092979921467,6.30685862500431,8.12439271692098])                                               |\n",
            "|7  |Greater London    |United Kingdom|Associate |Onsite  |financial analysis, budgeting, forecasting, auditing, investment analysis, risk assessment, financial modeling, tax planning, compliance, asset management                                                                                                                                             |[financial analysis, budgeting, forecasting, auditing, investment analysis, risk assessment, financial modeling, tax planning, compliance, asset management]                                                                                                                                             |(21083,[32,71,124,149,205,296,669,952,1000,6089],[1.0,1.0,1.0,1.0,1.0,1.0,1.0,1.0,1.0,1.0])                                                  |(21083,[32,71,124,149,205,296,669,952,1000,6089],[3.3646765543855475,3.8276580742342463,4.282893033641529,4.399297159398009,4.698184362855506,4.976600720914203,5.784396138325161,6.118055433569759,6.157809997060946,8.058712550058823])                                                                                                                                 |\n",
            "|8  |NULL              |United States |NULL      |Hybrid  |business development, account management, account strategy, forecasting, sales forecasting, sales closing, lead generation, communication, negotiation, salesforce, technical sales                                                                                                                    |[business development, account management, account strategy, forecasting, sales forecasting, sales closing, lead generation, communication, negotiation, salesforce, technical sales]                                                                                                                    |(21083,[0,53,81,148,149,270,350,951,1987,14071,15878],[1.0,1.0,1.0,1.0,1.0,1.0,1.0,1.0,1.0,1.0,1.0])                                         |(21083,[0,53,81,148,149,270,350,951,1987,14071,15878],[1.2500295308629121,3.6462551312870595,3.942442234438714,4.394398882837146,4.399297159398009,4.936487656701693,5.149902748800236,6.114550347611813,6.8564527034501594,8.98483137086924,9.13078528349232])                                                                                                           |\n",
            "|9  |Greater Manchester|United Kingdom|NULL      |Onsite  |patient care, patient assessment, clinical assessment, medication administration, wound care, patient education, compassion, empathy, communication, teamwork, nursing, record keeping, care planning                                                                                                  |[patient care, patient assessment, clinical assessment, medication administration, wound care, patient education, compassion, empathy, communication, teamwork, nursing, record keeping, care planning]                                                                                                  |(21083,[0,2,11,13,77,106,132,134,201,239,390,454,1560],[1.0,1.0,1.0,1.0,1.0,1.0,1.0,1.0,1.0,1.0,1.0,1.0,1.0])                                |(21083,[0,2,11,13,77,106,132,134,201,239,390,454,1560],[1.2500295308629121,1.7442259273383882,2.5661543172117747,2.690374315735751,3.890059197566786,4.13246358675548,4.315412057465755,4.3171501807306845,4.6866225647947015,4.828265785649932,5.235036850556927,5.364779457994711,6.592563574936599])                                                                   |\n",
            "|10 |Chicago           |United States |NULL      |Onsite  |legal research, contract drafting, litigation, litigation support, legal writing, case analysis, negotiation, legal compliance, intellectual property law, corporate law, employment law, international trade law, regulatory affairs, court filings, legal documents, case management, file management|[legal research, contract drafting, litigation, litigation support, legal writing, case analysis, negotiation, legal compliance, intellectual property law, corporate law, employment law, international trade law, regulatory affairs, court filings, legal documents, case management, file management]|(21083,[53,105,369,418,680,1071,1153,2228,2614,2713,2861,3262,5938,6539,14244],[1.0,1.0,1.0,1.0,1.0,1.0,1.0,1.0,1.0,1.0,1.0,1.0,1.0,1.0,1.0])|(21083,[53,105,369,418,680,1071,1153,2228,2614,2713,2861,3262,5938,6539,14244],[3.6462551312870595,4.12818216109333,5.239985914515802,5.313701098259587,5.809868733090969,6.220377498835736,6.285875899672914,6.990719119996051,7.159684885608449,7.215965721507039,7.263388400058647,7.394085591447293,8.032172994824212,8.145501680131215,9.009832673074659])           |\n",
            "+---+------------------+--------------+----------+--------+-------------------------------------------------------------------------------------------------------------------------------------------------------------------------------------------------------------------------------------------------------------------------------------------------------+---------------------------------------------------------------------------------------------------------------------------------------------------------------------------------------------------------------------------------------------------------------------------------------------------------+---------------------------------------------------------------------------------------------------------------------------------------------+--------------------------------------------------------------------------------------------------------------------------------------------------------------------------------------------------------------------------------------------------------------------------------------------------------------------------------------------------------------------------+\n",
            "\n"
          ]
        }
      ],
      "source": [
        "df_queries_tfidf.show(truncate=False)"
      ]
    },
    {
      "cell_type": "markdown",
      "metadata": {
        "id": "Xqke7P47HL6J"
      },
      "source": [
        "## 7. Building the SQL Query & Filtered Item Profile (Filtered Skills Matrix)"
      ]
    },
    {
      "cell_type": "code",
      "execution_count": null,
      "metadata": {
        "id": "CAIQnVLHt7mj"
      },
      "outputs": [],
      "source": [
        "# Register DataFrame as a temporary view (to facilitate querying with SQL)\n",
        "df_posts_skills_tfidf.createOrReplaceTempView(\"df_posts_skills_tfidf_view\")"
      ]
    },
    {
      "cell_type": "code",
      "execution_count": null,
      "metadata": {
        "colab": {
          "base_uri": "https://localhost:8080/",
          "height": 35
        },
        "id": "qotheZK-FICQ",
        "outputId": "857fabd0-ef02-4d0c-83b6-64608aee120d"
      },
      "outputs": [
        {
          "data": {
            "application/vnd.google.colaboratory.intrinsic+json": {
              "type": "string"
            },
            "text/plain": [
              "\"SELECT * FROM df_posts_skills_tfidf_view WHERE search_city = 'Seattle' AND search_country = 'United States' AND job_level = 'Mid senior' AND job_type = 'Onsite'\""
            ]
          },
          "execution_count": 39,
          "metadata": {},
          "output_type": "execute_result"
        }
      ],
      "source": [
        "# query_trial = \"\"\"\n",
        "# SELECT *\n",
        "# FROM df_posts_skills_tfidf_view\n",
        "# WHERE job_title LIKE '%Data Scientist%'\n",
        "# AND search_city = 'Seattle';\n",
        "# \"\"\"\n",
        "\n",
        "# spark.sql(query_trial).show(truncate=False)\n",
        "\n",
        "query_generator(search_city=\"Seattle\", search_country=\"United States\", job_level=\"Mid senior\", job_type=\"Onsite\")   #            |United States |Mid senior|Onsite"
      ]
    },
    {
      "cell_type": "code",
      "execution_count": null,
      "metadata": {
        "id": "aBpleYmjUECA"
      },
      "outputs": [],
      "source": [
        "# Define function to build SQL query\n",
        "def query_generator(search_city=None, search_country=None, job_level=None, job_type=None):\n",
        "    \"\"\"\n",
        "    Generate a dynamic SQL query based on user inputs and execute it on the DataFrame.\n",
        "\n",
        "    Args:\n",
        "        df (DataFrame): The PySpark DataFrame to query.\n",
        "        search_city (str, optional): The search city. Defaults to None.\n",
        "        search_country (str, optional): The search country. Defaults to None.\n",
        "        job_level (str, optional): The job level. Defaults to None.\n",
        "        job_type (str, optional): The job type. Defaults to None.\n",
        "\n",
        "    Returns:\n",
        "        DataFrame: The resulting DataFrame after applying the query.\n",
        "    \"\"\"\n",
        "\n",
        "    # Initialize an empty list to store conditions\n",
        "    conditions = []\n",
        "\n",
        "    # Add conditions based on user inputs\n",
        "    if search_city:\n",
        "        conditions.append(f\"search_city = '{search_city}'\")\n",
        "\n",
        "    if search_country:\n",
        "        conditions.append(f\"search_country = '{search_country}'\")\n",
        "\n",
        "    if job_level:\n",
        "        conditions.append(f\"job_level = '{job_level}'\")\n",
        "\n",
        "    if job_type:\n",
        "        conditions.append(f\"job_type = '{job_type}'\")\n",
        "\n",
        "    # Construct the WHERE clause by joining the conditions\n",
        "    where_clause = \" AND \".join(conditions)\n",
        "\n",
        "    # Write the SQL query with the dynamic WHERE clause\n",
        "    query = f\"SELECT * FROM df_posts_skills_tfidf_view WHERE {where_clause}\"\n",
        "\n",
        "    return query\n"
      ]
    },
    {
      "cell_type": "code",
      "execution_count": null,
      "metadata": {
        "colab": {
          "base_uri": "https://localhost:8080/"
        },
        "id": "gfHBSv2F4L_l",
        "outputId": "0fa3ed19-7a13-4910-9347-540813e8eef1"
      },
      "outputs": [
        {
          "name": "stdout",
          "output_type": "stream",
          "text": [
            "SELECT * FROM df_posts_skills_tfidf_view WHERE search_city = 'Atlanta' AND search_country = 'United States' AND job_level = 'Associate' AND job_type = 'Onsite'\n",
            "SELECT * FROM df_posts_skills_tfidf_view WHERE search_city = 'Atlanta' AND job_level = 'Associate' AND job_type = 'Hybrid'\n",
            "SELECT * FROM df_posts_skills_tfidf_view WHERE search_country = 'United Kingdom' AND job_level = 'Mid senior' AND job_type = 'Remote'\n",
            "SELECT * FROM df_posts_skills_tfidf_view WHERE search_country = 'Canada' AND job_type = 'Remote'\n",
            "SELECT * FROM df_posts_skills_tfidf_view WHERE search_country = 'Australia'\n",
            "SELECT * FROM df_posts_skills_tfidf_view WHERE search_country = 'Australia'\n"
          ]
        }
      ],
      "source": [
        "# Testing Queries\n",
        "\n",
        "print(query_generator(search_city='Atlanta', search_country='United States', job_level='Associate', job_type='Onsite'))\n",
        "\n",
        "print(query_generator(search_city='Atlanta', job_level='Associate', job_type='Hybrid'))\n",
        "\n",
        "print(query_generator(search_country='United Kingdom', job_level='Mid senior', job_type='Remote'))\n",
        "\n",
        "print(query_generator(search_country='Canada', job_type='Remote'))\n",
        "\n",
        "print(query_generator(search_country='Australia'))\n",
        "\n",
        "print(query_generator(search_country='Australia', job_level=None, job_type=None))"
      ]
    },
    {
      "cell_type": "markdown",
      "metadata": {
        "id": "qUH8Le2i_SU1"
      },
      "source": [
        "## 8. Cosine Similarity Function"
      ]
    },
    {
      "cell_type": "code",
      "execution_count": null,
      "metadata": {
        "id": "_aR4WxaUEXyk"
      },
      "outputs": [],
      "source": [
        "# Define a user-defined function (UDF) to calculate cosine similarity between two SparseVectors\n",
        "# Formula: cos(a,b) = (a.b) / (||a||*||b||)\n",
        "\n",
        "def cosine_similarity(v1, v2):\n",
        "    \"\"\"\n",
        "    Calculate cosine similarity between two SparseVectors.\n",
        "    \"\"\"\n",
        "    dot_product = float(v1.dot(v2))   # Calculate dot product of SparseVector v1 & v2\n",
        "    norm_v1 = float(v1.norm(2))   # Find norm of the SparseVector v1\n",
        "    norm_v2 = float(v2.norm(2))   # Find norm of the SparseVector v2\n",
        "\n",
        "    # Handle Zero Division cases   # Return 0 for similarity when either of the vectors is a zero vector\n",
        "    if norm_v1 * norm_v2 == 0:\n",
        "        return 0.0\n",
        "\n",
        "    similarity = dot_product / (norm_v1 * norm_v2)   # Calculate cosine similarity\n",
        "    return similarity\n",
        "\n",
        "# Wrap the function around a UDF (required to perform operations in Spark dataframes)\n",
        "cosine_similarity_udf = udf(cosine_similarity, DoubleType())"
      ]
    },
    {
      "cell_type": "markdown",
      "metadata": {
        "id": "XXbbnncZt8mM"
      },
      "source": [
        "## 9. Matching Most Relevant Jobs Based on User's Skills"
      ]
    },
    {
      "cell_type": "code",
      "execution_count": null,
      "metadata": {
        "colab": {
          "base_uri": "https://localhost:8080/"
        },
        "id": "ZInvsxSut7uR",
        "outputId": "a378bbef-accf-465e-cbc3-8c289a9d7291"
      },
      "outputs": [
        {
          "name": "stdout",
          "output_type": "stream",
          "text": [
            "Row(sn=1, search_city='Seattle', search_country='United States', job_level='Mid senior', job_type='Onsite', job_skills='Python, R, SQL, Machine learning, Data analysis, Statistical modeling, SAS, Matlab, Data Science, Statistics, Machine Learning, Operations Research, Communication, Problem Solving, Critical Thinking, Analytical Skills, Research, Modeling, Project Management', cleaned_job_skills=['python', 'sql', 'machine learning', 'data analysis', 'statistical modeling', 'sa', 'matlab', 'data science', 'statistic', 'machine learning', 'operations research', 'communication', 'problem solving', 'critical thinking', 'analytical skills', 'modeling', 'project management'], skills_frequency=SparseVector(21083, {0: 1.0, 5: 1.0, 9: 1.0, 16: 1.0, 25: 1.0, 28: 1.0, 82: 1.0, 96: 1.0, 254: 2.0, 447: 1.0, 575: 1.0, 764: 1.0, 1303: 1.0, 1546: 1.0, 2950: 1.0, 4370: 1.0}), skills_tfidf=SparseVector(21083, {0: 1.25, 5: 2.1811, 9: 2.3772, 16: 2.7725, 25: 3.0685, 28: 3.2001, 82: 3.9456, 96: 4.0874, 254: 9.8056, 447: 5.3706, 575: 5.6112, 764: 5.9208, 1303: 6.4095, 1546: 6.5909, 2950: 7.2948, 4370: 7.7321}))\n",
            "Row complete\n",
            "Row(sn=2, search_city='New York', search_country='United States', job_level=None, job_type=None, job_skills='big data, data science, machine learning, data analysis, programming, python, data wrangling, database management, database,  predictive modeling,  problem solving, artificial intelligence, deep learning', cleaned_job_skills=['big data', 'data science', 'machine learning', 'data analysis', 'programming', 'python', 'data wrangling', 'database management', 'database', 'predictive modeling', 'problem solving', 'artificial intelligence', 'deep learning'], skills_frequency=SparseVector(21083, {5: 1.0, 16: 1.0, 82: 1.0, 254: 1.0, 413: 1.0, 522: 1.0, 575: 1.0, 606: 1.0, 621: 1.0, 1405: 1.0, 1764: 1.0, 5323: 1.0, 13872: 1.0}), skills_tfidf=SparseVector(21083, {5: 2.1811, 16: 2.7725, 82: 3.9456, 254: 4.9028, 413: 5.2981, 522: 5.5076, 575: 5.6112, 606: 5.6449, 621: 5.6706, 1405: 6.4897, 1764: 6.7427, 5323: 7.9154, 13872: 8.9848}))\n",
            "Row complete\n",
            "Row(sn=3, search_city=None, search_country='United Kingdom', job_level='Mid senior', job_type=None, job_skills='public speaking, presentation skills, media relations, crisis management, branding, public relations, reputation management, audience engagement, stakeholder engagement, press release writing, stakeholder engagement, media monitoring, marketing', cleaned_job_skills=['public speaking', 'presentation skills', 'media relations', 'crisis management', 'branding', 'public relations', 'reputation management', 'audience engagement', 'stakeholder engagement', 'press release writing', 'stakeholder engagement', 'media monitoring', 'marketing'], skills_frequency=SparseVector(21083, {66: 1.0, 67: 1.0, 234: 1.0, 525: 1.0, 558: 2.0, 605: 1.0, 2104: 1.0, 2486: 1.0, 10780: 1.0, 12241: 1.0}), skills_tfidf=SparseVector(21083, {66: 3.787, 67: 3.7971, 234: 4.8008, 525: 5.5232, 558: 11.1419, 605: 5.6487, 2104: 6.9272, 2486: 7.1055, 10780: 8.6879, 12241: 8.8254}))\n",
            "Row complete\n",
            "Row(sn=4, search_city='Atlanta', search_country='United States', job_level='Mid senior', job_type='Onsite', job_skills='leadership, teamwork, problem solving, communication, adaptability, time management, creativity, analytical thinking, decision making, conflict resolution, marketing, sales, presentation skills, communication skills', cleaned_job_skills=['leadership', 'teamwork', 'problem solving', 'communication', 'adaptability', 'time management', 'creativity', 'analytical thinking', 'decision making', 'conflict resolution', 'marketing', 'sale', 'presentation skills', 'communication skills'], skills_frequency=SparseVector(21083, {0: 1.0, 2: 1.0, 3: 1.0, 4: 1.0, 5: 1.0, 6: 1.0, 12: 1.0, 26: 1.0, 37: 1.0, 47: 1.0, 66: 1.0, 67: 1.0, 209: 1.0, 237: 1.0}), skills_tfidf=SparseVector(21083, {0: 1.25, 2: 1.7442, 3: 1.8915, 4: 1.9517, 5: 2.1811, 6: 2.2089, 12: 2.6354, 26: 3.0936, 37: 3.475, 47: 3.5872, 66: 3.787, 67: 3.7971, 209: 4.7133, 237: 4.8199}))\n",
            "Row complete\n",
            "Row(sn=5, search_city=None, search_country='Canada', job_level=None, job_type='Remote', job_skills='coding, programming, technical skills, troubleshooting, software development, web development, linux, python, java, javascript, c++, html, php, sql, swift, ruby', cleaned_job_skills=['coding', 'programming', 'technical skills', 'troubleshooting', 'software development', 'web development', 'linux', 'python', 'java', 'javascript', 'html', 'php', 'sql', 'swift', 'ruby'], skills_frequency=SparseVector(21083, {33: 1.0, 82: 1.0, 96: 1.0, 179: 1.0, 238: 1.0, 252: 1.0, 268: 1.0, 335: 1.0, 409: 1.0, 522: 1.0, 970: 1.0, 1573: 1.0, 1759: 1.0, 2459: 1.0, 3981: 1.0}), skills_tfidf=SparseVector(21083, {33: 3.3938, 82: 3.9456, 96: 4.0874, 179: 4.5344, 238: 4.8271, 252: 4.8697, 268: 4.9277, 335: 5.1075, 409: 5.2938, 522: 5.5076, 970: 6.1336, 1573: 6.6022, 1759: 6.7271, 2459: 7.097, 3981: 7.611}))\n",
            "Row complete\n",
            "Row(sn=6, search_city='Sydney', search_country='Australia', job_level='Associate', job_type='Onsite', job_skills='business consulting, presentation skills, team collaboration, negotiation, problem solving, sales, business development, technology, customer service, data analysis, salesforce, storytelling,  microsoft office, account management', cleaned_job_skills=['business consulting', 'presentation skills', 'team collaboration', 'negotiation', 'problem solving', 'sale', 'business development', 'technology', 'customer service', 'data analysis', 'salesforce', 'storytelling', 'microsoft office', 'account management'], skills_frequency=SparseVector(21083, {1: 1.0, 5: 1.0, 12: 1.0, 16: 1.0, 23: 1.0, 53: 1.0, 67: 1.0, 81: 1.0, 148: 1.0, 165: 1.0, 270: 1.0, 281: 1.0, 1174: 1.0, 6424: 1.0}), skills_tfidf=SparseVector(21083, {1: 1.5422, 5: 2.1811, 12: 2.6354, 16: 2.7725, 23: 3.0445, 53: 3.6463, 67: 3.7971, 81: 3.9424, 148: 4.3944, 165: 4.4518, 270: 4.9365, 281: 4.9541, 1174: 6.3069, 6424: 8.1244}))\n",
            "Row complete\n",
            "Row(sn=7, search_city='Greater London', search_country='United Kingdom', job_level='Associate', job_type='Onsite', job_skills='financial analysis, budgeting, forecasting, auditing, investment analysis, risk assessment, financial modeling, tax planning, compliance, asset management', cleaned_job_skills=['financial analysis', 'budgeting', 'forecasting', 'auditing', 'investment analysis', 'risk assessment', 'financial modeling', 'tax planning', 'compliance', 'asset management'], skills_frequency=SparseVector(21083, {32: 1.0, 71: 1.0, 124: 1.0, 149: 1.0, 205: 1.0, 296: 1.0, 669: 1.0, 952: 1.0, 1000: 1.0, 6089: 1.0}), skills_tfidf=SparseVector(21083, {32: 3.3647, 71: 3.8277, 124: 4.2829, 149: 4.3993, 205: 4.6982, 296: 4.9766, 669: 5.7844, 952: 6.1181, 1000: 6.1578, 6089: 8.0587}))\n",
            "Row complete\n",
            "Row(sn=8, search_city=None, search_country='United States', job_level=None, job_type='Hybrid', job_skills='business development, account management, account strategy, forecasting, sales forecasting, sales closing, lead generation, communication, negotiation, salesforce, technical sales', cleaned_job_skills=['business development', 'account management', 'account strategy', 'forecasting', 'sales forecasting', 'sales closing', 'lead generation', 'communication', 'negotiation', 'salesforce', 'technical sales'], skills_frequency=SparseVector(21083, {0: 1.0, 53: 1.0, 81: 1.0, 148: 1.0, 149: 1.0, 270: 1.0, 350: 1.0, 951: 1.0, 1987: 1.0, 14071: 1.0, 15878: 1.0}), skills_tfidf=SparseVector(21083, {0: 1.25, 53: 3.6463, 81: 3.9424, 148: 4.3944, 149: 4.3993, 270: 4.9365, 350: 5.1499, 951: 6.1146, 1987: 6.8565, 14071: 8.9848, 15878: 9.1308}))\n",
            "Row complete\n",
            "Row(sn=9, search_city='Greater Manchester', search_country='United Kingdom', job_level=None, job_type='Onsite', job_skills='patient care, patient assessment, clinical assessment, medication administration, wound care, patient education, compassion, empathy, communication, teamwork, nursing, record keeping, care planning', cleaned_job_skills=['patient care', 'patient assessment', 'clinical assessment', 'medication administration', 'wound care', 'patient education', 'compassion', 'empathy', 'communication', 'teamwork', 'nursing', 'record keeping', 'care planning'], skills_frequency=SparseVector(21083, {0: 1.0, 2: 1.0, 11: 1.0, 13: 1.0, 77: 1.0, 106: 1.0, 132: 1.0, 134: 1.0, 201: 1.0, 239: 1.0, 390: 1.0, 454: 1.0, 1560: 1.0}), skills_tfidf=SparseVector(21083, {0: 1.25, 2: 1.7442, 11: 2.5662, 13: 2.6904, 77: 3.8901, 106: 4.1325, 132: 4.3154, 134: 4.3172, 201: 4.6866, 239: 4.8283, 390: 5.235, 454: 5.3648, 1560: 6.5926}))\n",
            "Row complete\n",
            "Row(sn=10, search_city='Chicago', search_country='United States', job_level=None, job_type='Onsite', job_skills='legal research, contract drafting, litigation, litigation support, legal writing, case analysis, negotiation, legal compliance, intellectual property law, corporate law, employment law, international trade law, regulatory affairs, court filings, legal documents, case management, file management', cleaned_job_skills=['legal research', 'contract drafting', 'litigation', 'litigation support', 'legal writing', 'case analysis', 'negotiation', 'legal compliance', 'intellectual property law', 'corporate law', 'employment law', 'international trade law', 'regulatory affairs', 'court filings', 'legal documents', 'case management', 'file management'], skills_frequency=SparseVector(21083, {53: 1.0, 105: 1.0, 369: 1.0, 418: 1.0, 680: 1.0, 1071: 1.0, 1153: 1.0, 2228: 1.0, 2614: 1.0, 2713: 1.0, 2861: 1.0, 3262: 1.0, 5938: 1.0, 6539: 1.0, 14244: 1.0}), skills_tfidf=SparseVector(21083, {53: 3.6463, 105: 4.1282, 369: 5.24, 418: 5.3137, 680: 5.8099, 1071: 6.2204, 1153: 6.2859, 2228: 6.9907, 2614: 7.1597, 2713: 7.216, 2861: 7.2634, 3262: 7.3941, 5938: 8.0322, 6539: 8.1455, 14244: 9.0098}))\n",
            "Row complete\n"
          ]
        }
      ],
      "source": [
        "# Create a list to hold the results\n",
        "query_skills_best_jobs = []\n",
        "\n",
        "# FOR EACH QUERY (row):   # Iterate through each row of the user profile DataFrame\n",
        "for row_query in df_queries_tfidf.collect():\n",
        "\n",
        "    # Select each candidate (row in df_queries_tfidf) & get the necessary information  # select only\n",
        "    # row_query = df_queries_tfidf.head(1)[0]  #### Need to modify accordingly later\n",
        "    print(row_query)\n",
        "\n",
        "    row_sn = row_query['sn']\n",
        "    row_search_city = row_query['search_city']   # <class 'str'>\n",
        "    row_search_country = row_query['search_country']\n",
        "    row_job_level = row_query['job_level']\n",
        "    row_job_type = row_query['job_type']\n",
        "    row_job_skills = row_query['job_skills']\n",
        "    row_skills_tfidf = row_query['skills_tfidf']  # <class 'pyspark.ml.linalg.SparseVector'>\n",
        "\n",
        "    # Construct SQL search query: search_city|search_country|job_level|job_type|job_skills\n",
        "    row_sql_query = query_generator(search_city=row_search_city, search_country=row_search_country, job_level=row_job_level, job_type=row_job_type)\n",
        "\n",
        "    # Filter the relevant rows (run SQL query)\n",
        "    temp_relevant_posts_skills_df = spark.sql(row_sql_query)\n",
        "\n",
        "    # Define a UDF function to wrap around the \"row_skills_tfidf\" SparseVector.\n",
        "    # This was done in preparation for the next step to calculate cosine similarity, as I could not use the SparseVector directly for calculation.\n",
        "    def row_skills_tfidf_vector():\n",
        "        return row_skills_tfidf\n",
        "    row_skills_tfidf_vector = udf(row_skills_tfidf_vector, VectorUDT())\n",
        "\n",
        "    # Compute similarity score using the UDF for each relevant row\n",
        "    temp_relevant_posts_skills_df = temp_relevant_posts_skills_df.withColumn(\"similarity_score\", cosine_similarity_udf(col(\"skills_tfidf\"), row_skills_tfidf_vector()))\n",
        "\n",
        "    # Sort in descending order based on similarity_score\n",
        "    temp_relevant_posts_skills_df = temp_relevant_posts_skills_df.orderBy(col(\"similarity_score\").desc())\n",
        "\n",
        "    # Identify top 5 best matches\n",
        "    # Extract the top 5 jobs along with the corresponding columns into a Python list of dictionaries\n",
        "    top5_relevant_jobs = temp_relevant_posts_skills_df.select(\"job_link_id\", \"job_title\", \"company\", \"job_location\", \"job_level\", \"job_type\", \"job_skills\", \"similarity_score\").limit(5).collect()\n",
        "\n",
        "    # Add tags and ranks to each job dictionary\n",
        "    for rank, job in enumerate(top5_relevant_jobs, start=1):\n",
        "        job_dict = {\"query_sn\": row_sn, \"users_skills\": row_job_skills, \"job_suitability_rank\": rank}  # Create new dictionary with tag and rank\n",
        "        job_dict.update(job.asDict())  # Update with original dictionary\n",
        "        query_skills_best_jobs.append(job_dict)\n",
        "\n",
        "    print(\"Row complete\")\n"
      ]
    },
    {
      "cell_type": "code",
      "execution_count": null,
      "metadata": {
        "colab": {
          "base_uri": "https://localhost:8080/"
        },
        "id": "Zas--E5ht787",
        "outputId": "9ed990ef-ec40-4a11-f318-ada5e89ba51c"
      },
      "outputs": [
        {
          "name": "stdout",
          "output_type": "stream",
          "text": [
            "Data has been successfully written to output_job_skills_match.csv\n"
          ]
        }
      ],
      "source": [
        "# Extract keys from the first dictionary in the list to use as column names\n",
        "column_names = query_skills_best_jobs[0].keys()\n",
        "\n",
        "# Write the data to the CSV file\n",
        "with open(output_file_path, 'w', newline='') as csvfile:\n",
        "    writer = csv.DictWriter(csvfile, fieldnames=column_names)\n",
        "\n",
        "    # Write column names to the CSV file\n",
        "    writer.writeheader()\n",
        "\n",
        "    # Write each row of data to the CSV file\n",
        "    for job in query_skills_best_jobs:\n",
        "        writer.writerow(job)\n",
        "\n",
        "print(f\"Data has been successfully written to {output_file_path}\")"
      ]
    }
  ],
  "metadata": {
    "colab": {
      "collapsed_sections": [
        "qVqU5BFaktbi",
        "3ynTV2Fomjzx",
        "D4fE67u_wT55",
        "qZI7WDmLnpO1",
        "OILJSsoBEflw",
        "VZtG9X6K8m8x",
        "Xqke7P47HL6J",
        "qUH8Le2i_SU1",
        "XXbbnncZt8mM"
      ],
      "provenance": []
    },
    "kernelspec": {
      "display_name": "Python 3",
      "name": "python3"
    },
    "language_info": {
      "name": "python"
    }
  },
  "nbformat": 4,
  "nbformat_minor": 0
}
